{
  "cells": [
    {
      "cell_type": "markdown",
      "source": [
        "## Загрузка данных с файлов и сохранение в БД"
      ],
      "metadata": {
        "id": "Moml-R66rYi4"
      },
      "id": "Moml-R66rYi4"
    },
    {
      "cell_type": "code",
      "id": "bmp2PrfTuxf0nHelYJZr6LIU",
      "metadata": {
        "tags": [],
        "id": "bmp2PrfTuxf0nHelYJZr6LIU"
      },
      "source": [
        "!pip install langchain_community"
      ],
      "execution_count": null,
      "outputs": []
    },
    {
      "cell_type": "code",
      "source": [
        "!pip install langchain_openai langchain_chroma"
      ],
      "metadata": {
        "id": "AgiNyL1FvCi3"
      },
      "id": "AgiNyL1FvCi3",
      "execution_count": null,
      "outputs": []
    },
    {
      "cell_type": "code",
      "source": [
        "#загрузим данные на сервер колаб\n",
        "from google.colab import files\n",
        "upload = files.upload()\n"
      ],
      "metadata": {
        "colab": {
          "base_uri": "https://localhost:8080/",
          "height": 74
        },
        "id": "lKu9SkvdrT5O",
        "executionInfo": {
          "status": "ok",
          "timestamp": 1720515370963,
          "user_tz": -300,
          "elapsed": 11580,
          "user": {
            "displayName": "",
            "userId": ""
          }
        },
        "outputId": "b2471865-f7d8-4d30-fd3c-ea7930639638"
      },
      "id": "lKu9SkvdrT5O",
      "execution_count": 9,
      "outputs": [
        {
          "output_type": "display_data",
          "data": {
            "text/plain": [
              "<IPython.core.display.HTML object>"
            ],
            "text/html": [
              "\n",
              "     <input type=\"file\" id=\"files-ac751ad8-a453-4613-949b-a505cfe01bdc\" name=\"files[]\" multiple disabled\n",
              "        style=\"border:none\" />\n",
              "     <output id=\"result-ac751ad8-a453-4613-949b-a505cfe01bdc\">\n",
              "      Upload widget is only available when the cell has been executed in the\n",
              "      current browser session. Please rerun this cell to enable.\n",
              "      </output>\n",
              "      <script>// Copyright 2017 Google LLC\n",
              "//\n",
              "// Licensed under the Apache License, Version 2.0 (the \"License\");\n",
              "// you may not use this file except in compliance with the License.\n",
              "// You may obtain a copy of the License at\n",
              "//\n",
              "//      http://www.apache.org/licenses/LICENSE-2.0\n",
              "//\n",
              "// Unless required by applicable law or agreed to in writing, software\n",
              "// distributed under the License is distributed on an \"AS IS\" BASIS,\n",
              "// WITHOUT WARRANTIES OR CONDITIONS OF ANY KIND, either express or implied.\n",
              "// See the License for the specific language governing permissions and\n",
              "// limitations under the License.\n",
              "\n",
              "/**\n",
              " * @fileoverview Helpers for google.colab Python module.\n",
              " */\n",
              "(function(scope) {\n",
              "function span(text, styleAttributes = {}) {\n",
              "  const element = document.createElement('span');\n",
              "  element.textContent = text;\n",
              "  for (const key of Object.keys(styleAttributes)) {\n",
              "    element.style[key] = styleAttributes[key];\n",
              "  }\n",
              "  return element;\n",
              "}\n",
              "\n",
              "// Max number of bytes which will be uploaded at a time.\n",
              "const MAX_PAYLOAD_SIZE = 100 * 1024;\n",
              "\n",
              "function _uploadFiles(inputId, outputId) {\n",
              "  const steps = uploadFilesStep(inputId, outputId);\n",
              "  const outputElement = document.getElementById(outputId);\n",
              "  // Cache steps on the outputElement to make it available for the next call\n",
              "  // to uploadFilesContinue from Python.\n",
              "  outputElement.steps = steps;\n",
              "\n",
              "  return _uploadFilesContinue(outputId);\n",
              "}\n",
              "\n",
              "// This is roughly an async generator (not supported in the browser yet),\n",
              "// where there are multiple asynchronous steps and the Python side is going\n",
              "// to poll for completion of each step.\n",
              "// This uses a Promise to block the python side on completion of each step,\n",
              "// then passes the result of the previous step as the input to the next step.\n",
              "function _uploadFilesContinue(outputId) {\n",
              "  const outputElement = document.getElementById(outputId);\n",
              "  const steps = outputElement.steps;\n",
              "\n",
              "  const next = steps.next(outputElement.lastPromiseValue);\n",
              "  return Promise.resolve(next.value.promise).then((value) => {\n",
              "    // Cache the last promise value to make it available to the next\n",
              "    // step of the generator.\n",
              "    outputElement.lastPromiseValue = value;\n",
              "    return next.value.response;\n",
              "  });\n",
              "}\n",
              "\n",
              "/**\n",
              " * Generator function which is called between each async step of the upload\n",
              " * process.\n",
              " * @param {string} inputId Element ID of the input file picker element.\n",
              " * @param {string} outputId Element ID of the output display.\n",
              " * @return {!Iterable<!Object>} Iterable of next steps.\n",
              " */\n",
              "function* uploadFilesStep(inputId, outputId) {\n",
              "  const inputElement = document.getElementById(inputId);\n",
              "  inputElement.disabled = false;\n",
              "\n",
              "  const outputElement = document.getElementById(outputId);\n",
              "  outputElement.innerHTML = '';\n",
              "\n",
              "  const pickedPromise = new Promise((resolve) => {\n",
              "    inputElement.addEventListener('change', (e) => {\n",
              "      resolve(e.target.files);\n",
              "    });\n",
              "  });\n",
              "\n",
              "  const cancel = document.createElement('button');\n",
              "  inputElement.parentElement.appendChild(cancel);\n",
              "  cancel.textContent = 'Cancel upload';\n",
              "  const cancelPromise = new Promise((resolve) => {\n",
              "    cancel.onclick = () => {\n",
              "      resolve(null);\n",
              "    };\n",
              "  });\n",
              "\n",
              "  // Wait for the user to pick the files.\n",
              "  const files = yield {\n",
              "    promise: Promise.race([pickedPromise, cancelPromise]),\n",
              "    response: {\n",
              "      action: 'starting',\n",
              "    }\n",
              "  };\n",
              "\n",
              "  cancel.remove();\n",
              "\n",
              "  // Disable the input element since further picks are not allowed.\n",
              "  inputElement.disabled = true;\n",
              "\n",
              "  if (!files) {\n",
              "    return {\n",
              "      response: {\n",
              "        action: 'complete',\n",
              "      }\n",
              "    };\n",
              "  }\n",
              "\n",
              "  for (const file of files) {\n",
              "    const li = document.createElement('li');\n",
              "    li.append(span(file.name, {fontWeight: 'bold'}));\n",
              "    li.append(span(\n",
              "        `(${file.type || 'n/a'}) - ${file.size} bytes, ` +\n",
              "        `last modified: ${\n",
              "            file.lastModifiedDate ? file.lastModifiedDate.toLocaleDateString() :\n",
              "                                    'n/a'} - `));\n",
              "    const percent = span('0% done');\n",
              "    li.appendChild(percent);\n",
              "\n",
              "    outputElement.appendChild(li);\n",
              "\n",
              "    const fileDataPromise = new Promise((resolve) => {\n",
              "      const reader = new FileReader();\n",
              "      reader.onload = (e) => {\n",
              "        resolve(e.target.result);\n",
              "      };\n",
              "      reader.readAsArrayBuffer(file);\n",
              "    });\n",
              "    // Wait for the data to be ready.\n",
              "    let fileData = yield {\n",
              "      promise: fileDataPromise,\n",
              "      response: {\n",
              "        action: 'continue',\n",
              "      }\n",
              "    };\n",
              "\n",
              "    // Use a chunked sending to avoid message size limits. See b/62115660.\n",
              "    let position = 0;\n",
              "    do {\n",
              "      const length = Math.min(fileData.byteLength - position, MAX_PAYLOAD_SIZE);\n",
              "      const chunk = new Uint8Array(fileData, position, length);\n",
              "      position += length;\n",
              "\n",
              "      const base64 = btoa(String.fromCharCode.apply(null, chunk));\n",
              "      yield {\n",
              "        response: {\n",
              "          action: 'append',\n",
              "          file: file.name,\n",
              "          data: base64,\n",
              "        },\n",
              "      };\n",
              "\n",
              "      let percentDone = fileData.byteLength === 0 ?\n",
              "          100 :\n",
              "          Math.round((position / fileData.byteLength) * 100);\n",
              "      percent.textContent = `${percentDone}% done`;\n",
              "\n",
              "    } while (position < fileData.byteLength);\n",
              "  }\n",
              "\n",
              "  // All done.\n",
              "  yield {\n",
              "    response: {\n",
              "      action: 'complete',\n",
              "    }\n",
              "  };\n",
              "}\n",
              "\n",
              "scope.google = scope.google || {};\n",
              "scope.google.colab = scope.google.colab || {};\n",
              "scope.google.colab._files = {\n",
              "  _uploadFiles,\n",
              "  _uploadFilesContinue,\n",
              "};\n",
              "})(self);\n",
              "</script> "
            ]
          },
          "metadata": {}
        },
        {
          "output_type": "stream",
          "name": "stdout",
          "text": [
            "Saving main_info.md to main_info.md\n"
          ]
        }
      ]
    },
    {
      "cell_type": "code",
      "source": [
        "!ls"
      ],
      "metadata": {
        "colab": {
          "base_uri": "https://localhost:8080/"
        },
        "id": "HkReTvu2sPKe",
        "executionInfo": {
          "status": "ok",
          "timestamp": 1720518131799,
          "user_tz": -300,
          "elapsed": 502,
          "user": {
            "displayName": "",
            "userId": ""
          }
        },
        "outputId": "92b897cc-f781-48ef-8d21-c6c17df974b7"
      },
      "id": "HkReTvu2sPKe",
      "execution_count": 7,
      "outputs": [
        {
          "output_type": "stream",
          "name": "stdout",
          "text": [
            "main_info.md\n"
          ]
        }
      ]
    },
    {
      "cell_type": "code",
      "source": [
        "!rm *.md"
      ],
      "metadata": {
        "id": "t-V0dunksRq3",
        "executionInfo": {
          "status": "ok",
          "timestamp": 1720515124239,
          "user_tz": -300,
          "elapsed": 1181,
          "user": {
            "displayName": "",
            "userId": ""
          }
        }
      },
      "id": "t-V0dunksRq3",
      "execution_count": 6,
      "outputs": []
    },
    {
      "cell_type": "code",
      "source": [
        "from langchain_community.document_loaders import TextLoader\n",
        "from langchain_community.document_loaders import DirectoryLoader\n",
        "\n",
        "\n",
        "path = ''\n",
        "text_loader_kwargs={'autodetect_encoding': True}\n",
        "loader = DirectoryLoader(path, glob=\"**/*info.md\", loader_cls=TextLoader,\n",
        "                         loader_kwargs=text_loader_kwargs)\n",
        "\n",
        "docs = loader.load()\n",
        "len(docs)\n"
      ],
      "metadata": {
        "colab": {
          "base_uri": "https://localhost:8080/"
        },
        "id": "P4fXPa0hsZiQ",
        "executionInfo": {
          "status": "ok",
          "timestamp": 1720518136331,
          "user_tz": -300,
          "elapsed": 499,
          "user": {
            "displayName": "",
            "userId": ""
          }
        },
        "outputId": "ef07826d-311e-4f88-d7ba-6666042e0381"
      },
      "id": "P4fXPa0hsZiQ",
      "execution_count": 8,
      "outputs": [
        {
          "output_type": "execute_result",
          "data": {
            "text/plain": [
              "1"
            ]
          },
          "metadata": {},
          "execution_count": 8
        }
      ]
    },
    {
      "cell_type": "code",
      "source": [
        "from langchain.text_splitter import RecursiveCharacterTextSplitter\n",
        "\n",
        "splitter = RecursiveCharacterTextSplitter(\n",
        "    chunk_size=1000,\n",
        "    chunk_overlap=200,\n",
        "    separators=[\"\\n\\n\", \"\\n\", \"(?<=\\. )\"]\n",
        ")\n",
        "\n",
        "splitted_texts = splitter.split_documents(docs)\n",
        "# pp(a[0].page_content)\n",
        "len(splitted_texts)\n",
        "\n",
        "\n"
      ],
      "metadata": {
        "colab": {
          "base_uri": "https://localhost:8080/"
        },
        "id": "2SLWe0kxtAeM",
        "executionInfo": {
          "status": "ok",
          "timestamp": 1720518140380,
          "user_tz": -300,
          "elapsed": 498,
          "user": {
            "displayName": "",
            "userId": ""
          }
        },
        "outputId": "3cf68a69-1e87-47f5-f168-a1866dc5fe8e"
      },
      "id": "2SLWe0kxtAeM",
      "execution_count": 9,
      "outputs": [
        {
          "output_type": "execute_result",
          "data": {
            "text/plain": [
              "12"
            ]
          },
          "metadata": {},
          "execution_count": 9
        }
      ]
    },
    {
      "cell_type": "code",
      "source": [
        "splitted_texts[1]"
      ],
      "metadata": {
        "colab": {
          "base_uri": "https://localhost:8080/"
        },
        "id": "KqEQ44iSukyu",
        "executionInfo": {
          "status": "ok",
          "timestamp": 1720518159687,
          "user_tz": -300,
          "elapsed": 494,
          "user": {
            "displayName": "",
            "userId": ""
          }
        },
        "outputId": "d81688f2-e846-4074-8328-9e9019ca07a0"
      },
      "id": "KqEQ44iSukyu",
      "execution_count": 11,
      "outputs": [
        {
          "output_type": "execute_result",
          "data": {
            "text/plain": [
              "Document(metadata={'source': 'main_info.md'}, page_content='## Бронирование\\n\\nДля бронирования дня рождения требуется предоплата 1000 рублей (переводом на карту администратора)\\n\\n# Услуги и локации комплекса\\n\\n## Игровые комнаты и локации\\n\\nКомплекс состоит из пяти  игровых локаций:\\n- Лабиринт: Трехэтажный детский игровой лабиринт с батутами и различными препятствиями внутри.\\n- Красочные сети: аттракцион состоит из множества переплетенных вручную разноцветных нейлоновых нитей, закрепленных на прочной конструкции.\\n- Веревочный парк: здесь дети смогут показать свою ловкость и смелость, преодолевая различные препятствия на высоте.\\n- Мультирум: игровое пространство наполнено трендовыми игрушками такие как  LEGO, Hot Wheels, Barbie, L.O.L. и многие другие. \\n- Песочница: песочница с мраморным песком  для самых маленьких гостей\\nПредусмотрена услуга Мультипарк, которая включает в себя следующие локации: лабиринт, красочные сети, песочница\\n\\n## Дополнительные услуги при групповом посещении игровых комнат на время празднования дня рождения')"
            ]
          },
          "metadata": {},
          "execution_count": 11
        }
      ]
    },
    {
      "cell_type": "code",
      "source": [
        "# преобразуем в вектор и сохраним БД\n",
        "from langchain_openai import OpenAIEmbeddings\n",
        "from langchain_chroma import Chroma\n",
        "\n",
        "persist_directory = ''\n",
        "\n",
        "# Укажите ваш API ключ здесь\n",
        "openai_api_key = 'sk-proj-0V1V2vb081j4PUGm0cWcT3BlbkFJwufus6bG5XxlO4nKBtFB'\n",
        "\n",
        "embedding = OpenAIEmbeddings(openai_api_key=openai_api_key)\n",
        "vectordb = Chroma.from_documents(\n",
        "    documents=splitted_texts,\n",
        "    embedding=embedding,\n",
        "    persist_directory=persist_directory\n",
        ")\n",
        "\n",
        "# создаем БД\n",
        "print(vectordb._collection.count())\n"
      ],
      "metadata": {
        "colab": {
          "base_uri": "https://localhost:8080/"
        },
        "id": "ZdnlvmuNvSbj",
        "executionInfo": {
          "status": "ok",
          "timestamp": 1720518167266,
          "user_tz": -300,
          "elapsed": 2498,
          "user": {
            "displayName": "",
            "userId": ""
          }
        },
        "outputId": "0400f2a9-ca8c-4573-806e-eda37ea3e05d"
      },
      "id": "ZdnlvmuNvSbj",
      "execution_count": 12,
      "outputs": [
        {
          "output_type": "stream",
          "name": "stdout",
          "text": [
            "12\n"
          ]
        }
      ]
    },
    {
      "cell_type": "code",
      "source": [
        "# удаляем коллекцию\n",
        "vectordb.delete_collection()"
      ],
      "metadata": {
        "id": "J2BUQeOAvWoh"
      },
      "id": "J2BUQeOAvWoh",
      "execution_count": null,
      "outputs": []
    },
    {
      "cell_type": "code",
      "source": [
        "# загрузим БД с локалки\n",
        "vectordb = Chroma(\n",
        "    persist_directory=persist_directory,\n",
        "    embedding_function=embedding\n",
        ")\n",
        "print(vectordb._collection.count())"
      ],
      "metadata": {
        "colab": {
          "base_uri": "https://localhost:8080/"
        },
        "id": "1g2nb4MAvat-",
        "executionInfo": {
          "status": "ok",
          "timestamp": 1720518174750,
          "user_tz": -300,
          "elapsed": 556,
          "user": {
            "displayName": "",
            "userId": ""
          }
        },
        "outputId": "f0b14db9-a763-45da-f0ba-6095341d49e0"
      },
      "id": "1g2nb4MAvat-",
      "execution_count": 13,
      "outputs": [
        {
          "output_type": "stream",
          "name": "stdout",
          "text": [
            "12\n"
          ]
        }
      ]
    },
    {
      "cell_type": "markdown",
      "source": [
        "## Поиск данных в БД"
      ],
      "metadata": {
        "id": "6R7c-viBxhR7"
      },
      "id": "6R7c-viBxhR7"
    },
    {
      "cell_type": "code",
      "source": [
        "def printAnswer(answers):\n",
        "    for answer in answers:\n",
        "        print(answer.page_content)\n",
        "        print(answer.metadata)  # .source\n",
        "        print('-----')\n",
        "\n",
        "question = \"Где вы находитесь?\"\n",
        "# question = \"как с вами связаться?\"\n",
        "answers = vectordb.similarity_search(question, k=3)\n",
        "\n",
        "printAnswer(answers)\n"
      ],
      "metadata": {
        "colab": {
          "base_uri": "https://localhost:8080/"
        },
        "id": "YHT0rjBQxlWU",
        "executionInfo": {
          "status": "ok",
          "timestamp": 1720518181053,
          "user_tz": -300,
          "elapsed": 498,
          "user": {
            "displayName": "",
            "userId": ""
          }
        },
        "outputId": "728c98c1-880d-4ae4-81b9-4c1bc3cc15de"
      },
      "id": "YHT0rjBQxlWU",
      "execution_count": 14,
      "outputs": [
        {
          "output_type": "stream",
          "name": "stdout",
          "text": [
            "# Общая информация о комплексе\n",
            "\n",
            "## Контактная информация\n",
            "\n",
            "Адрес. г. Волгодонск, улица  Энтузиастов 9а , Сквер “Дружбы”\n",
            "Администратор  Светлана +79891111111\n",
            "\n",
            "## Режим работы\n",
            "\n",
            "с 10.00-21.30 без перерыва и выходных.\n",
            "\n",
            "## Бронирование\n",
            "\n",
            "Для бронирования дня рождения требуется предоплата 1000 рублей (переводом на карту администратора)\n",
            "\n",
            "# Услуги и локации комплекса\n",
            "\n",
            "## Игровые комнаты и локации\n",
            "{'source': 'main_info.md'}\n",
            "-----\n",
            "С помощью специальных конфетти. над гостями раскидывается тысячи блестящих лент из фольги. Невесомые серебряные лепестки парят в воздухе под веселую зажигательную музыку.\n",
            "\n",
            "## Аренда беседки для празднования дня рождения\n",
            "\n",
            "Отдельная беседка со столом. Можно перекусить и пообщаться компанией. Беседка украшена гирляндой-растяжкой и 10 шариками. На столе - праздничная скатерть. Есть куллер с питьевой водой. \n",
            "\n",
            "# Дополнительная информация. Аренда беседки и групповое посещение игровых комнат на время празднования дня рождения\n",
            "\n",
            "Напитки, торт, еду можно принести с собой.\n",
            "Нож и холодильник предоставляется. Гость может принести  флешку с любимой музыкой именинника.\n",
            "На территории есть туалет.\n",
            "\n",
            "## Посуда\n",
            "\n",
            "В наличие есть  бумажная и пластиковая одноразовая посуда,  это платные комплекты ( стакан + тарелка+ ложка) от 200-400 руб комплект 6 шт., наличие нужно уточнять.\n",
            "\n",
            "## Фотограф\n",
            "\n",
            "Фотографа в штате нет, но можем найти со стороны.\n",
            "\n",
            "# Цены при индивидуальном посещении локаций комплекса\n",
            "{'source': 'main_info.md'}\n",
            "-----\n",
            "## Фотограф\n",
            "\n",
            "Фотографа в штате нет, но можем найти со стороны.\n",
            "\n",
            "# Цены при индивидуальном посещении локаций комплекса\n",
            "\n",
            "## Стоимость посещения локаций (с одного ребенка)\n",
            "\n",
            "### Стоимость посещения игровой комнаты  Мультирум:\n",
            "\n",
            "| Время посещения | Стоимость рублей |\n",
            "| ----------- | ----------- |\n",
            "| 30 мин | 200 |\n",
            "| 1 час | 300 |\n",
            "| 2 часа | 400 |\n",
            "| 3 часа | 500 |\n",
            "| Безлимит на целый день | 700 |\n",
            "\n",
            "| Абонемент на посещение | Стоимость рублей |\n",
            "| ----------- | ----------- |\n",
            "| 5 часов | 1000 |\n",
            "| 10 часов | 1700 |\n",
            "| 20 часов | 2500 |\n",
            "| Безлимит на месяц | 5000 |\n",
            "\n",
            "| Подарочные сертификаты | Стоимость рублей |\n",
            "| ----------- | ----------- |\n",
            "| 1 час | 300 |\n",
            "| 2 часа | 400 |\n",
            "| 3 часа | 500 |\n",
            "\n",
            "\n",
            "### Стоимость посещения комплекса Мультипарк (включает в себя лабиринт, красочные сети, песочницу):\n",
            "\n",
            "| Время посещения | Стоимость рублей |\n",
            "| ----------- | ----------- |\n",
            "| 10 мин | 150 |\n",
            "| 30 мин | 300 |\n",
            "| 1 час | 400 |\n",
            "{'source': 'main_info.md'}\n",
            "-----\n"
          ]
        }
      ]
    },
    {
      "cell_type": "code",
      "source": [
        "answers = vectordb.max_marginal_relevance_search(question, k=2, fetch_k=5)\n",
        "printAnswer(answers)"
      ],
      "metadata": {
        "colab": {
          "base_uri": "https://localhost:8080/"
        },
        "id": "UxCLkMptym9g",
        "executionInfo": {
          "status": "ok",
          "timestamp": 1720518189496,
          "user_tz": -300,
          "elapsed": 1190,
          "user": {
            "displayName": "",
            "userId": ""
          }
        },
        "outputId": "2d6dd1ea-db91-430d-eef2-846c1fbe5aeb"
      },
      "id": "UxCLkMptym9g",
      "execution_count": 15,
      "outputs": [
        {
          "output_type": "stream",
          "name": "stdout",
          "text": [
            "# Общая информация о комплексе\n",
            "\n",
            "## Контактная информация\n",
            "\n",
            "Адрес. г. Волгодонск, улица  Энтузиастов 9а , Сквер “Дружбы”\n",
            "Администратор  Светлана +79891111111\n",
            "\n",
            "## Режим работы\n",
            "\n",
            "с 10.00-21.30 без перерыва и выходных.\n",
            "\n",
            "## Бронирование\n",
            "\n",
            "Для бронирования дня рождения требуется предоплата 1000 рублей (переводом на карту администратора)\n",
            "\n",
            "# Услуги и локации комплекса\n",
            "\n",
            "## Игровые комнаты и локации\n",
            "{'source': 'main_info.md'}\n",
            "-----\n",
            "# Скидки и особые условия\n",
            "\n",
            "- Многодетные семьи при предъявлении документов получают скидку 50%.\n",
            "- Особые дети или дети с ограниченными возможностями проходят бесплатно (при предъявлении соответствующих документов).\n",
            "- Дети из детских домов также проходят бесплатно при предъявлении документов.\n",
            "{'source': 'main_info.md'}\n",
            "-----\n"
          ]
        }
      ]
    },
    {
      "cell_type": "code",
      "source": [
        "!pip install langchain hub"
      ],
      "metadata": {
        "id": "0TQHq6cizBU_",
        "executionInfo": {
          "status": "ok",
          "timestamp": 1720517817348,
          "user_tz": -300,
          "elapsed": 1,
          "user": {
            "displayName": "",
            "userId": ""
          }
        }
      },
      "id": "0TQHq6cizBU_",
      "execution_count": 4,
      "outputs": []
    },
    {
      "cell_type": "code",
      "source": [
        "import os\n",
        "os.environ[\"OPENAI_API_KEY\"] = \"sk-proj-0V1V2vb081j4PUGm0cWcT3BlbkFJwufus6bG5XxlO4nKBtFB\"\n",
        "\n",
        "from langchain_core.runnables import RunnablePassthrough\n",
        "from langchain_core.output_parsers import StrOutputParser\n",
        "from langchain_openai import ChatOpenAI\n",
        "from langchain import hub\n",
        "\n",
        "os.environ[\"LANGCHAIN_TRACING_V2\"] = \"true\"\n",
        "os.environ[\"LANGCHAIN_API_KEY\"] = \"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\"\n",
        "\n",
        "retriever = vectordb.as_retriever()\n",
        "prompt = hub.pull(\"rlm/rag-prompt\")\n",
        "\n",
        "def format_docs(docs):\n",
        "    return \"\\n\\nФрагмент текста\\n\\n\".join(doc.page_content for doc in docs)\n",
        "\n",
        "model = ChatOpenAI(\n",
        "    model=\"gpt-4o\",\n",
        "    temperature=0.7,\n",
        ")\n",
        "\n",
        "rag_chain = (\n",
        "    {\"context\": retriever | format_docs, \"question\": RunnablePassthrough()}\n",
        "    | prompt\n",
        "    | model\n",
        "    | StrOutputParser()\n",
        ")\n",
        "\n",
        "rag_chain.invoke(\"как с вами связаться?\")"
      ],
      "metadata": {
        "colab": {
          "base_uri": "https://localhost:8080/",
          "height": 35
        },
        "id": "hbQ9uSQs0Hl2",
        "executionInfo": {
          "status": "ok",
          "timestamp": 1720518391013,
          "user_tz": -300,
          "elapsed": 1787,
          "user": {
            "displayName": "",
            "userId": ""
          }
        },
        "outputId": "249919d5-338e-4143-d298-eeeae4d2e701"
      },
      "id": "hbQ9uSQs0Hl2",
      "execution_count": 17,
      "outputs": [
        {
          "output_type": "execute_result",
          "data": {
            "text/plain": [
              "'Вы можете связаться с администратором Светланой по телефону +79891111111.'"
            ],
            "application/vnd.google.colaboratory.intrinsic+json": {
              "type": "string"
            }
          },
          "metadata": {},
          "execution_count": 17
        }
      ]
    },
    {
      "cell_type": "code",
      "source": [
        "from langchain_chroma import Chroma\n",
        "from langchain_core.example_selectors import SemanticSimilarityExampleSelector\n",
        "from langchain_openai import OpenAIEmbeddings\n",
        "\n",
        "examples = [\n",
        "    {\"input\": \"2 плюс 2\", \"output\": \"равно четыре\"},\n",
        "    {\"input\": \"2 плюс 3\", \"output\": \"равно пять\"},\n",
        "    {\"input\": \"Как лает собака\", \"output\": \"ГАВ-ГАВ\"},\n",
        "    {\"input\": \"Что говорит хрюша\",\"output\": \"ХРЮ-ХРЮ\",},\n",
        "]\n",
        "\n",
        "to_vectorize = [\" \".join(example.values()) for example in examples]\n",
        "embeddings = OpenAIEmbeddings()\n",
        "vectorstore = Chroma.from_texts(to_vectorize, embeddings, metadatas=examples)"
      ],
      "metadata": {
        "id": "olhGMQro7MlK",
        "executionInfo": {
          "status": "ok",
          "timestamp": 1720519024069,
          "user_tz": -300,
          "elapsed": 1817,
          "user": {
            "displayName": "",
            "userId": ""
          }
        }
      },
      "id": "olhGMQro7MlK",
      "execution_count": 18,
      "outputs": []
    },
    {
      "cell_type": "code",
      "source": [
        "example_selector = SemanticSimilarityExampleSelector(\n",
        "    vectorstore=vectorstore,\n",
        "    k=2,\n",
        ")\n",
        "\n",
        "example_selector.select_examples({\"input\": \"2 минус 1\"})\n",
        "example_selector.select_examples({\"input\": \"что говорят рыбы\"})"
      ],
      "metadata": {
        "colab": {
          "base_uri": "https://localhost:8080/"
        },
        "id": "LSCb4gWI7Q4s",
        "executionInfo": {
          "status": "ok",
          "timestamp": 1720519042973,
          "user_tz": -300,
          "elapsed": 5,
          "user": {
            "displayName": "",
            "userId": ""
          }
        },
        "outputId": "c095fab9-addf-4f8f-d793-f2d2aa738410"
      },
      "id": "LSCb4gWI7Q4s",
      "execution_count": 19,
      "outputs": [
        {
          "output_type": "execute_result",
          "data": {
            "text/plain": [
              "[{'input': 'Что говорит хрюша', 'output': 'ХРЮ-ХРЮ'},\n",
              " {'input': 'Как лает собака', 'output': 'ГАВ-ГАВ'}]"
            ]
          },
          "metadata": {},
          "execution_count": 19
        }
      ]
    },
    {
      "cell_type": "code",
      "source": [
        "from langchain_core.prompts import ChatPromptTemplate, FewShotChatMessagePromptTemplate\n",
        "\n",
        "few_shot_prompt = FewShotChatMessagePromptTemplate(\n",
        "    input_variables=[\"input\"],\n",
        "    example_selector=example_selector,\n",
        "    example_prompt=ChatPromptTemplate.from_messages(\n",
        "        [(\"human\", \"{input}\"), (\"ai\", \"{output}\")]\n",
        "    ),\n",
        ")\n",
        "\n",
        "final_prompt = ChatPromptTemplate.from_messages(\n",
        "    [\n",
        "        (\"system\", \"You are a wondrous wizard of math.\"),\n",
        "        few_shot_prompt,\n",
        "        (\"human\", \"{input}\"),\n",
        "    ]\n",
        ")\n",
        "\n",
        "print(few_shot_prompt.invoke(input=\"2 минус 1\"))"
      ],
      "metadata": {
        "colab": {
          "base_uri": "https://localhost:8080/"
        },
        "id": "-P4ksLpN7VA_",
        "executionInfo": {
          "status": "ok",
          "timestamp": 1720519061534,
          "user_tz": -300,
          "elapsed": 3,
          "user": {
            "displayName": "",
            "userId": ""
          }
        },
        "outputId": "934ba862-1f82-468d-bb45-52b753d46a67"
      },
      "id": "-P4ksLpN7VA_",
      "execution_count": 20,
      "outputs": [
        {
          "output_type": "stream",
          "name": "stdout",
          "text": [
            "messages=[HumanMessage(content='2 плюс 3'), AIMessage(content='равно пять'), HumanMessage(content='2 плюс 2'), AIMessage(content='равно четыре')]\n"
          ]
        }
      ]
    },
    {
      "cell_type": "code",
      "source": [
        "parser = StrOutputParser()\n",
        "chain = final_prompt | model | parser\n",
        "\n",
        "chain.invoke({\"input\": \"2 минус 1\"})\n",
        "chain.invoke({\"input\": \"что говорят куры\"})"
      ],
      "metadata": {
        "colab": {
          "base_uri": "https://localhost:8080/",
          "height": 35
        },
        "id": "6sItDJ_C7ZnR",
        "executionInfo": {
          "status": "ok",
          "timestamp": 1720519083191,
          "user_tz": -300,
          "elapsed": 2447,
          "user": {
            "displayName": "",
            "userId": ""
          }
        },
        "outputId": "29ca12fd-5da8-4033-f3b9-721b1b33bedf"
      },
      "id": "6sItDJ_C7ZnR",
      "execution_count": 21,
      "outputs": [
        {
          "output_type": "execute_result",
          "data": {
            "text/plain": [
              "'Куры обычно кудахчут и могут издавать звуки, похожие на \"Ко-ко-ко\" или \"Кудах-кудах\".'"
            ],
            "application/vnd.google.colaboratory.intrinsic+json": {
              "type": "string"
            }
          },
          "metadata": {},
          "execution_count": 21
        }
      ]
    }
  ],
  "metadata": {
    "kernelspec": {
      "display_name": "Python 3",
      "language": "python",
      "name": "python3"
    },
    "language_info": {
      "codemirror_mode": {
        "name": "ipython",
        "version": 3
      },
      "file_extension": ".py",
      "mimetype": "text/x-python",
      "name": "python",
      "nbconvert_exporter": "python",
      "pygments_lexer": "ipython3",
      "version": "3.10.10"
    },
    "colab": {
      "provenance": [],
      "name": "marjona.davlyatova.h (Jul 9, 2024, 1:43:24 PM)"
    }
  },
  "nbformat": 4,
  "nbformat_minor": 5
}